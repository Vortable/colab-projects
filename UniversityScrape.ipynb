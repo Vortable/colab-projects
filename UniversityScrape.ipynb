{
  "nbformat": 4,
  "nbformat_minor": 0,
  "metadata": {
    "colab": {
      "provenance": [],
      "include_colab_link": true
    },
    "kernelspec": {
      "name": "python3",
      "display_name": "Python 3"
    },
    "language_info": {
      "name": "python"
    }
  },
  "cells": [
    {
      "cell_type": "markdown",
      "metadata": {
        "id": "view-in-github",
        "colab_type": "text"
      },
      "source": [
        "<a href=\"https://colab.research.google.com/github/Vortable/colab-projects/blob/main/UniversityScrape.ipynb\" target=\"_parent\"><img src=\"https://colab.research.google.com/assets/colab-badge.svg\" alt=\"Open In Colab\"/></a>"
      ]
    },
    {
      "cell_type": "markdown",
      "source": [
        "Install Libraries"
      ],
      "metadata": {
        "id": "dHNME-8tvegu"
      }
    },
    {
      "cell_type": "code",
      "source": [
        "!pip install requests beautifulsoup4 pandas"
      ],
      "metadata": {
        "colab": {
          "base_uri": "https://localhost:8080/"
        },
        "id": "jPW5ddNavgIM",
        "outputId": "122f86e4-db5c-4a1a-f4ef-a8e4edf193e1"
      },
      "execution_count": null,
      "outputs": [
        {
          "output_type": "stream",
          "name": "stdout",
          "text": [
            "Requirement already satisfied: requests in /usr/local/lib/python3.11/dist-packages (2.32.3)\n",
            "Requirement already satisfied: beautifulsoup4 in /usr/local/lib/python3.11/dist-packages (4.13.4)\n",
            "Requirement already satisfied: pandas in /usr/local/lib/python3.11/dist-packages (2.2.2)\n",
            "Requirement already satisfied: charset-normalizer<4,>=2 in /usr/local/lib/python3.11/dist-packages (from requests) (3.4.2)\n",
            "Requirement already satisfied: idna<4,>=2.5 in /usr/local/lib/python3.11/dist-packages (from requests) (3.10)\n",
            "Requirement already satisfied: urllib3<3,>=1.21.1 in /usr/local/lib/python3.11/dist-packages (from requests) (2.4.0)\n",
            "Requirement already satisfied: certifi>=2017.4.17 in /usr/local/lib/python3.11/dist-packages (from requests) (2025.7.14)\n",
            "Requirement already satisfied: soupsieve>1.2 in /usr/local/lib/python3.11/dist-packages (from beautifulsoup4) (2.7)\n",
            "Requirement already satisfied: typing-extensions>=4.0.0 in /usr/local/lib/python3.11/dist-packages (from beautifulsoup4) (4.14.1)\n",
            "Requirement already satisfied: numpy>=1.23.2 in /usr/local/lib/python3.11/dist-packages (from pandas) (2.0.2)\n",
            "Requirement already satisfied: python-dateutil>=2.8.2 in /usr/local/lib/python3.11/dist-packages (from pandas) (2.9.0.post0)\n",
            "Requirement already satisfied: pytz>=2020.1 in /usr/local/lib/python3.11/dist-packages (from pandas) (2025.2)\n",
            "Requirement already satisfied: tzdata>=2022.7 in /usr/local/lib/python3.11/dist-packages (from pandas) (2025.2)\n",
            "Requirement already satisfied: six>=1.5 in /usr/local/lib/python3.11/dist-packages (from python-dateutil>=2.8.2->pandas) (1.17.0)\n"
          ]
        }
      ]
    },
    {
      "cell_type": "markdown",
      "source": [
        "\n",
        "Import Libraries\n"
      ],
      "metadata": {
        "id": "E0QoO_R-vtyz"
      }
    },
    {
      "cell_type": "code",
      "execution_count": null,
      "metadata": {
        "id": "tnLnSUgTvdAI"
      },
      "outputs": [],
      "source": [
        "\n",
        "import requests\n",
        "from bs4 import BeautifulSoup\n",
        "import pandas as pd\n",
        "import time\n",
        "\n"
      ]
    },
    {
      "cell_type": "markdown",
      "source": [
        "Web Scraper"
      ],
      "metadata": {
        "id": "Mp5P_YTDwA2h"
      }
    },
    {
      "cell_type": "code",
      "source": [
        "\n",
        "# Step 1: Load the main page\n",
        "main_url = \"https://studyabroadaide.com/all-universities-canada/\"\n",
        "headers = {\"User-Agent\": \"Mozilla/5.0\"}\n",
        "response = requests.get(main_url, headers=headers)\n",
        "soup = BeautifulSoup(response.content, \"html.parser\")\n",
        "\n",
        "# Step 2: Extract university rows\n",
        "table = soup.find(\"table\", class_=\"saa_table\")\n",
        "rows = table.find(\"tbody\").find_all(\"tr\")\n",
        "\n",
        "# Step 3: Prepare data container\n",
        "universities = []\n",
        "\n",
        "# Step 4: Loop through each university\n",
        "for row in rows:\n",
        "    cols = row.find_all(\"td\")\n",
        "    name_tag = cols[0].find(\"a\")\n",
        "    name = name_tag.get_text(strip=True)\n",
        "    detail_url = name_tag[\"href\"]\n",
        "    location = cols[1].get_text(strip=True)\n",
        "    uni_type = cols[2].get_text(strip=True)\n",
        "\n",
        "    # Visit the detail page\n",
        "    try:\n",
        "        detail_response = requests.get(detail_url, headers=headers)\n",
        "        detail_soup = BeautifulSoup(detail_response.content, \"html.parser\")\n",
        "\n",
        "        # Official website\n",
        "        website_div = detail_soup.find(\"div\", class_=\"saa-institution-link\")\n",
        "        website = website_div.find(\"a\")[\"href\"] if website_div else \"\"\n",
        "\n",
        "        # Tuition fees\n",
        "        def get_fees(section_class):\n",
        "            fees = {\"Domestic\": \"\", \"International\": \"\"}\n",
        "            section = detail_soup.find(\"h3\", class_=section_class)\n",
        "            if section:\n",
        "                table = section.find_next(\"table\")\n",
        "                if table:\n",
        "                    for tr in table.find_all(\"tr\"):\n",
        "                        tds = tr.find_all(\"td\")\n",
        "                        if len(tds) == 2:\n",
        "                            student_type = tds[0].get_text(strip=True)\n",
        "                            fee = tds[1].get_text(strip=True)\n",
        "                            if \"Domestic\" in student_type:\n",
        "                                fees[\"Domestic\"] = fee\n",
        "                            elif \"International\" in student_type:\n",
        "                                fees[\"International\"] = fee\n",
        "            return fees\n",
        "\n",
        "        bachelor_fees = get_fees(\"saa-institution-bachelors-tuition-fees\")\n",
        "        master_fees = get_fees(\"saa-institution-masters-tuition-fees\")\n",
        "\n",
        "        # Programs\n",
        "        def get_programs(table_class):\n",
        "            programs = []\n",
        "            table = detail_soup.find(\"table\", class_=table_class)\n",
        "            if table:\n",
        "                for tr in table.find_all(\"tr\"):\n",
        "                    td = tr.find(\"td\")\n",
        "                    if td:\n",
        "                        programs.append(td.get_text(strip=True))\n",
        "            return programs\n",
        "\n",
        "        bachelor_programs = get_programs(\"saa-bachelors-courses\")\n",
        "        master_programs = get_programs(\"saa-masters-courses\")\n",
        "\n",
        "        # Append data\n",
        "        universities.append({\n",
        "            \"University Name\": name,\n",
        "            \"Location\": location,\n",
        "            \"Type\": uni_type,\n",
        "            \"Detail Page\": detail_url,\n",
        "            \"Official Website\": website,\n",
        "            \"Bachelor Tuition (Domestic)\": bachelor_fees[\"Domestic\"],\n",
        "            \"Bachelor Tuition (International)\": bachelor_fees[\"International\"],\n",
        "            \"Master Tuition (Domestic)\": master_fees[\"Domestic\"],\n",
        "            \"Master Tuition (International)\": master_fees[\"International\"],\n",
        "            \"Bachelor Programs\": \", \".join(bachelor_programs),\n",
        "            \"Master Programs\": \", \".join(master_programs)\n",
        "        })\n",
        "\n",
        "        print(f\"Scraped: {name}\")\n",
        "        time.sleep(1)  # Be polite to the server\n",
        "\n",
        "    except Exception as e:\n",
        "        print(f\"Failed to scrape {name}: {e}\")\n",
        "\n",
        "# Step 5: Save to CSV\n",
        "df = pd.DataFrame(universities)\n",
        "df.to_csv(\"canadian_universities.csv\", index=False)\n",
        "print(\"✅ Scraping complete. File saved as 'canadian_universities.csv'\")\n",
        "\n",
        "\n"
      ],
      "metadata": {
        "colab": {
          "base_uri": "https://localhost:8080/"
        },
        "id": "1NwoU0LTwK2B",
        "outputId": "286429c7-7f87-47bd-b3c4-4c0b3bf22d32"
      },
      "execution_count": null,
      "outputs": [
        {
          "output_type": "stream",
          "name": "stdout",
          "text": [
            "Scraped: Saint Mary’s University, Halifax\n",
            "Scraped: Red Deer Polytechnic\n",
            "Scraped: Confederation College\n",
            "Scraped: St. Lawrence College\n",
            "Scraped: Durham College\n",
            "Scraped: Algonquin College\n",
            "Scraped: College of the Rockies\n",
            "Scraped: Conestoga College\n",
            "Scraped: College of New Caledonia\n",
            "Scraped: Southern Alberta Institute of Technology\n",
            "Scraped: Northern Alberta Institute of Technology\n",
            "Scraped: North Island College\n",
            "Scraped: New York Institute of Technology Vancouver\n",
            "Scraped: Yorkville University\n",
            "Scraped: University of Fredericton\n",
            "Scraped: Tyndale University\n",
            "Scraped: St. Stephen’s University\n",
            "Scraped: Providence University College and Theological Seminary\n",
            "Scraped: Kingswood University\n",
            "Scraped: Burman University\n",
            "Scraped: Yukon University\n",
            "Scraped: Université de l’Ontario français\n",
            "Scraped: Université de Hearst\n",
            "Scraped: Saint Francis Xavier University\n",
            "Scraped: Nova Scotia College of Art and Design University\n",
            "Scraped: University College of the North\n",
            "Scraped: Algoma University\n",
            "Scraped: Canadore College\n",
            "Scraped: Loyalist College\n",
            "Scraped: Fanshawe College\n",
            "Scraped: George Brown College\n",
            "Scraped: Assiniboine Community College\n",
            "Scraped: Georgian College\n",
            "Scraped: Lambton College\n",
            "Scraped: Cambrian College\n",
            "Scraped: Humber College\n",
            "Scraped: Centennial College\n",
            "Scraped: LaSalle College Vancouver\n",
            "Scraped: Holland College\n",
            "Scraped: Université de Montréal\n",
            "Scraped: Crandall University\n",
            "Scraped: Red River College Polytechnic\n",
            "Scraped: Southeast College\n",
            "Scraped: Saskatchewan Polytechnic\n",
            "Scraped: Mohawk College\n",
            "Scraped: Niagara College\n",
            "Scraped: College of the North Atlantic\n",
            "Scraped: Fleming College\n",
            "Scraped: British Columbia Institute of Technology\n",
            "Scraped: University Canada West\n",
            "Scraped: Langara College\n",
            "Scraped: Booth University College\n",
            "Scraped: St. Mary’s University – Canada\n",
            "Scraped: Ambrose University\n",
            "Scraped: University of Saskatchewan\n",
            "Scraped: University of Regina\n",
            "Scraped: Polytechnique Montréal\n",
            "Scraped: Université du Québec\n",
            "Scraped: Royal Military College of Canada\n",
            "Scraped: Universite Laval\n",
            "Scraped: Université de Sherbrooke\n",
            "Scraped: University of Prince Edward Island\n",
            "Scraped: Alberta University of the Arts\n",
            "Scraped: Bow Valley College\n",
            "Scraped: Lethbridge College\n",
            "Scraped: McGill University\n",
            "Scraped: HEC Montréal University\n",
            "Scraped: Concordia University\n",
            "Scraped: Bishop’s University\n",
            "Scraped: University of King’s College\n",
            "Scraped: University of Guelph\n",
            "Scraped: Université Sainte-Anne\n",
            "Scraped: University of Ottawa\n",
            "Scraped: Wilfrid Laurier University\n",
            "Scraped: York University\n",
            "Scraped: Carleton University\n",
            "Scraped: Brock University\n",
            "Scraped: Brescia University College\n",
            "Scraped: University of Waterloo\n",
            "Scraped: University of Windsor\n",
            "Scraped: Western University – Canada\n",
            "Scraped: Nipissing University\n",
            "Scraped: OCAD University\n",
            "Scraped: Trent University\n",
            "Scraped: Dalhousie University\n",
            "Scraped: Cape Breton University\n",
            "Scraped: NSCAD University\n",
            "Scraped: Saint Mary’s University\n",
            "Scraped: St. Francis Xavier University\n",
            "Scraped: University of Toronto\n",
            "Scraped: McMaster University\n",
            "Scraped: Laurentian University\n",
            "Scraped: Lakehead University\n",
            "Scraped: Toronto Metropolitan University\n",
            "Scraped: Redeemer University\n",
            "Scraped: Queen’s University\n",
            "Scraped: Ontario Tech University\n",
            "Scraped: University of Sudbury\n",
            "Scraped: Mount Saint Vincent University\n",
            "Scraped: Memorial University of Newfoundland\n",
            "Scraped: Mount Allison University\n",
            "Scraped: St. Thomas University – Canada\n",
            "Scraped: University of New Brunswick\n",
            "Scraped: Acadia University\n",
            "Scraped: Brandon University\n",
            "Scraped: Canadian Mennonite University\n",
            "Scraped: University of Winnipeg\n",
            "Scraped: Université de Saint-Boniface\n",
            "Scraped: University of Manitoba\n",
            "Scraped: Université de Moncton\n",
            "Scraped: University of Alberta\n",
            "Scraped: Kwantlen Polytechnic University\n",
            "Scraped: Thompson Rivers University\n",
            "Scraped: Royal Roads University\n",
            "Scraped: Trinity Western University\n",
            "Scraped: Simon Fraser University\n",
            "Scraped: University of Northern British Columbia\n",
            "Scraped: University of British Columbia\n",
            "Scraped: University of the Fraser Valley\n",
            "Scraped: University of Victoria\n",
            "Scraped: Vancouver Island University\n",
            "Scraped: Capilano University\n",
            "Scraped: University of Calgary\n",
            "Scraped: University of Lethbridge\n",
            "Scraped: Emily Carr University of Art and Design\n",
            "Scraped: Concordia University of Edmonton\n",
            "Scraped: MacEwan University\n",
            "Scraped: King’s University\n",
            "Scraped: Mount Royal University\n",
            "Scraped: Athabasca University\n",
            "✅ Scraping complete. File saved as 'canadian_universities.csv'\n"
          ]
        }
      ]
    },
    {
      "cell_type": "markdown",
      "source": [
        "Output"
      ],
      "metadata": {
        "id": "Ii7oeDMJ2GwC"
      }
    },
    {
      "cell_type": "code",
      "source": [
        "\n",
        "from google.colab import files\n",
        "files.download(\"canadian_universities.csv\")\n"
      ],
      "metadata": {
        "colab": {
          "base_uri": "https://localhost:8080/",
          "height": 17
        },
        "id": "VyewgpAR2LbQ",
        "outputId": "f121cd4b-585b-4217-db18-7128aac3383b"
      },
      "execution_count": null,
      "outputs": [
        {
          "output_type": "display_data",
          "data": {
            "text/plain": [
              "<IPython.core.display.Javascript object>"
            ],
            "application/javascript": [
              "\n",
              "    async function download(id, filename, size) {\n",
              "      if (!google.colab.kernel.accessAllowed) {\n",
              "        return;\n",
              "      }\n",
              "      const div = document.createElement('div');\n",
              "      const label = document.createElement('label');\n",
              "      label.textContent = `Downloading \"${filename}\": `;\n",
              "      div.appendChild(label);\n",
              "      const progress = document.createElement('progress');\n",
              "      progress.max = size;\n",
              "      div.appendChild(progress);\n",
              "      document.body.appendChild(div);\n",
              "\n",
              "      const buffers = [];\n",
              "      let downloaded = 0;\n",
              "\n",
              "      const channel = await google.colab.kernel.comms.open(id);\n",
              "      // Send a message to notify the kernel that we're ready.\n",
              "      channel.send({})\n",
              "\n",
              "      for await (const message of channel.messages) {\n",
              "        // Send a message to notify the kernel that we're ready.\n",
              "        channel.send({})\n",
              "        if (message.buffers) {\n",
              "          for (const buffer of message.buffers) {\n",
              "            buffers.push(buffer);\n",
              "            downloaded += buffer.byteLength;\n",
              "            progress.value = downloaded;\n",
              "          }\n",
              "        }\n",
              "      }\n",
              "      const blob = new Blob(buffers, {type: 'application/binary'});\n",
              "      const a = document.createElement('a');\n",
              "      a.href = window.URL.createObjectURL(blob);\n",
              "      a.download = filename;\n",
              "      div.appendChild(a);\n",
              "      a.click();\n",
              "      div.remove();\n",
              "    }\n",
              "  "
            ]
          },
          "metadata": {}
        },
        {
          "output_type": "display_data",
          "data": {
            "text/plain": [
              "<IPython.core.display.Javascript object>"
            ],
            "application/javascript": [
              "download(\"download_f7c10582-deef-4ee8-be24-ef67dcae6c45\", \"canadian_universities.csv\", 58017)"
            ]
          },
          "metadata": {}
        }
      ]
    }
  ]
}